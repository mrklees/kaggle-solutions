{
 "cells": [
  {
   "cell_type": "markdown",
   "metadata": {},
   "source": [
    "Try applying some deep learning to Housing Prices in the hope of saving some time on feature extraction."
   ]
  },
  {
   "cell_type": "code",
   "execution_count": 1,
   "metadata": {},
   "outputs": [
    {
     "name": "stderr",
     "output_type": "stream",
     "text": [
      "Using TensorFlow backend.\n"
     ]
    }
   ],
   "source": [
    "import pandas as pd\n",
    "import numpy as np\n",
    "\n",
    "%matplotlib inline\n",
    "import matplotlib.pyplot as plt\n",
    "\n",
    "from sklearn.model_selection import train_test_split\n",
    "from sklearn.preprocessing import LabelEncoder, OneHotEncoder, StandardScaler\n",
    "\n",
    "from keras.layers import Input \n",
    "from keras.layers.core import Dense, Dropout, Activation\n",
    "from keras.models import Model \n",
    "\n",
    "from hyperopt import Trials, STATUS_OK, tpe\n",
    "from hyperas import optim\n",
    "from hyperas.distributions import choice, uniform"
   ]
  },
  {
   "cell_type": "code",
   "execution_count": 90,
   "metadata": {},
   "outputs": [],
   "source": [
    "def preprocess_data(test_data=False):\n",
    "    def encode_one_categorical_feature(column):\n",
    "        le = LabelEncoder()\n",
    "        ohe = OneHotEncoder(sparse=False)\n",
    "        num_encoded = le.fit_transform(column.fillna('unk'))\n",
    "        oh_encoded = ohe.fit_transform(num_encoded.reshape(-1, 1))\n",
    "        return oh_encoded\n",
    "    data = pd.read_csv('data/train.csv')\n",
    "    target = ['SalePrice']\n",
    "    features = data.drop(['Id'] + target, axis=1).columns\n",
    "    \n",
    "    dataset_types = pd.DataFrame(data[features].dtypes, columns=['datatype'])\n",
    "    dataset_types.reset_index(inplace=True)\n",
    "\n",
    "    numeric_features = dataset_types.rename(columns={\"index\" : \"feature\"}).feature[(dataset_types.datatype == 'float64') | (dataset_types.datatype == 'int64')]\n",
    "    num_data = data[numeric_features]\n",
    "    num_features = num_data.fillna(num_data.mean()).values\n",
    "    scaler = StandardScaler()\n",
    "    num_features_scaled = scaler.fit_transform(num_features)\n",
    "\n",
    "    categorical_features = dataset_types.rename(columns={\"index\" : \"feature\"}).feature[(dataset_types.datatype == 'object')]\n",
    "    cat_data = data[categorical_features]\n",
    "    cat_features = np.hstack([encode_one_categorical_feature(data[column]) for column in cat_data.columns])\n",
    "    \n",
    "    print(\"Of the {} features in this dataset\".format(len(data.columns)))\n",
    "    print(\"{} features are numeric\".format(len(numeric_features)))\n",
    "    print(\"and {} features are categorical.\".format(len(categorical_features)))\n",
    "    print(\"The last two are the target, which is numeric, and the id column.\")\n",
    "    \n",
    "    X = np.hstack((num_features_scaled, cat_features))\n",
    "    if test_data == True:\n",
    "        return X\n",
    "    y = data[target].values\n",
    "    X_train, X_test, y_train, y_test = train_test_split(X, y, test_size=0.25, random_state=606)\n",
    "    return X_train, X_test, y_train, y_test\n",
    "\n",
    "def plot_history(history):\n",
    "    plt.plot(history.history['loss'], 'b')\n",
    "    plt.plot(history.history['val_loss'], 'r')\n",
    "    plt.title('model accuracy') \n",
    "    plt.ylabel('loss') \n",
    "    plt.xlabel('epoch') \n",
    "    plt.legend(['train', 'validation'], loc='upper left')\n",
    "    plt.show()\n",
    "    \n",
    "def keras_model(X_train, X_test, y_train, y_test):\n",
    "    NUM_EPOCHS = 50\n",
    "    BATCH_SIZE = 128\n",
    "    \n",
    "    inputs = Input(shape=(304, ))\n",
    "    x = Dropout(0.2)(inputs)\n",
    "    \n",
    "    x = Dense(256)(x)\n",
    "    x = Activation(\"relu\")(x)\n",
    "    x = Dropout(0.2)(x)\n",
    "    \n",
    "    x = Dense(256)(x)\n",
    "    x = Activation(\"relu\")(x)\n",
    "    x = Dropout(0.4)(x)\n",
    "    \n",
    "    x = Dense(256)(x)\n",
    "    x = Activation(\"relu\")(x)\n",
    "    x = Dropout(0.4)(x)\n",
    "    \n",
    "    x = Dense(256)(x)\n",
    "    x = Activation(\"relu\")(x)\n",
    "    x = Dropout(0.4)(x)\n",
    "    \n",
    "    x = Dense(256)(x)\n",
    "    x = Activation(\"relu\")(x)\n",
    "    x = Dropout(0.4)(x)\n",
    "    \n",
    "    x = Dense(256)(x)\n",
    "    x = Activation(\"relu\")(x)\n",
    "    x = Dropout(0.4)(x)\n",
    "        \n",
    "    predictions = Dense(1)(x)\n",
    "\n",
    "    model = Model(inputs=[inputs], outputs=[predictions])\n",
    "\n",
    "    model.compile(loss=\"mse\", optimizer=\"adam\")\n",
    "    history = model.fit(X_train, y_train, batch_size=BATCH_SIZE, epochs=NUM_EPOCHS, validation_split=0.2, verbose=0)\n",
    "    \n",
    "    plot_history(history)\n",
    "    \n",
    "    score = model.evaluate(X_test, y_test, verbose=0)\n",
    "    print(\"Test MSE is {:.2e}\".format(score))\n",
    "    return history, model"
   ]
  },
  {
   "cell_type": "code",
   "execution_count": 91,
   "metadata": {},
   "outputs": [
    {
     "name": "stdout",
     "output_type": "stream",
     "text": [
      "Of the 81 features in this dataset\n",
      "36 features are numeric\n",
      "and 43 features are categorical.\n",
      "The last two are the target, which is numeric, and the id column.\n"
     ]
    }
   ],
   "source": [
    "X_train, X_test, y_train, y_test = preprocess_data()"
   ]
  },
  {
   "cell_type": "markdown",
   "metadata": {},
   "source": [
    "#### Optimizing out model using Bayesian Optimization!\n",
    "\n",
    "It's not reflected in this workbook, but my workflow for Keras has recently transitioned to primarily using Hyperas for hypermarameter optimization."
   ]
  },
  {
   "cell_type": "code",
   "execution_count": 92,
   "metadata": {
    "scrolled": false
   },
   "outputs": [
    {
     "data": {
      "image/png": "[encoded data removed]",
      "text/plain": [
       "<matplotlib.figure.Figure at 0x1b62dec9cc0>"
      ]
     },
     "metadata": {},
     "output_type": "display_data"
    },
    {
     "name": "stdout",
     "output_type": "stream",
     "text": [
      "Test MSE is 1.04e+09\n"
     ]
    }
   ],
   "source": [
    "model, history = keras_model(X_train, X_test, y_train, y_test)"
   ]
  },
  {
   "cell_type": "code",
   "execution_count": 93,
   "metadata": {
    "collapsed": true
   },
   "outputs": [],
   "source": [
    "predicted = model.model.predict(X_test)"
   ]
  },
  {
   "cell_type": "code",
   "execution_count": 94,
   "metadata": {},
   "outputs": [
    {
     "data": {
      "text/plain": [
       "[<matplotlib.lines.Line2D at 0x1b62738a128>]"
      ]
     },
     "execution_count": 94,
     "metadata": {},
     "output_type": "execute_result"
    },
    {
     "data": {
      "image/png": "[encoded data removed]",
      "text/plain": [
       "<matplotlib.figure.Figure at 0x1b62c5c8ac8>"
      ]
     },
     "metadata": {},
     "output_type": "display_data"
    }
   ],
   "source": [
    "plt.plot(y_test - predicted)"
   ]
  },
  {
   "cell_type": "code",
   "execution_count": 17,
   "metadata": {},
   "outputs": [
    {
     "name": "stdout",
     "output_type": "stream",
     "text": [
      "Of the 81 features in this dataset\n",
      "36 features are numeric\n",
      "and 43 features are categorical.\n",
      "The last two are the target, which is numeric, and the id column.\n"
     ]
    }
   ],
   "source": [
    "test_data = preprocess_data(test_data=True)"
   ]
  },
  {
   "cell_type": "markdown",
   "metadata": {},
   "source": [
    "# Improving on our results using an autoencoder"
   ]
  },
  {
   "cell_type": "code",
   "execution_count": null,
   "metadata": {
    "collapsed": true
   },
   "outputs": [],
   "source": []
  }
 ],
 "metadata": {
  "kernelspec": {
   "display_name": "Python 3",
   "language": "python",
   "name": "python3"
  },
  "language_info": {
   "codemirror_mode": {
    "name": "ipython",
    "version": 3
   },
   "file_extension": ".py",
   "mimetype": "text/x-python",
   "name": "python",
   "nbconvert_exporter": "python",
   "pygments_lexer": "ipython3",
   "version": "3.6.1"
  }
 },
 "nbformat": 4,
 "nbformat_minor": 2
}
